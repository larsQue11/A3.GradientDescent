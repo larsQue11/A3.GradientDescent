{
 "cells": [
  {
   "cell_type": "markdown",
   "metadata": {},
   "source": [
    "#### Course: CS7267\n",
    "#### Student name: William Stone\n",
    "#### Student ID: 000272306\n",
    "#### Assignment: #3\n",
    "#### Due Date: October 23, 2019\n",
    "#### Signature:\n",
    "#### Score:"
   ]
  },
  {
   "cell_type": "markdown",
   "metadata": {},
   "source": [
    "## Importing the packages used"
   ]
  },
  {
   "cell_type": "code",
   "execution_count": 2,
   "metadata": {},
   "outputs": [],
   "source": [
    "import matplotlib.pyplot as plt\n",
    "%matplotlib inline\n",
    "import time"
   ]
  },
  {
   "cell_type": "markdown",
   "metadata": {},
   "source": [
    "## Equation of a line"
   ]
  },
  {
   "cell_type": "code",
   "execution_count": 3,
   "metadata": {},
   "outputs": [],
   "source": [
    "def linearPrediction(m,x,b):\n",
    "\n",
    "    y = (m * x) + b\n",
    "\n",
    "    return y"
   ]
  },
  {
   "cell_type": "markdown",
   "metadata": {},
   "source": [
    "## Calculation of error for the slope\n",
    "#### Function is the partial derivative of the cost function with respect to the slope."
   ]
  },
  {
   "cell_type": "code",
   "execution_count": 4,
   "metadata": {},
   "outputs": [],
   "source": [
    "def calcSlopeError(actualValues,predictedValues):\n",
    "\n",
    "    numSamples = len(actualValues)\n",
    "    sumOfDifferences = 0\n",
    "    for i in range(0,numSamples):\n",
    "        difference = actualValues[i][1] - predictedValues[i]\n",
    "        difference = difference * actualValues[i][0]\n",
    "        sumOfDifferences = sumOfDifferences + difference\n",
    "\n",
    "    slopeError = -2 * sumOfDifferences / numSamples\n",
    "\n",
    "    return slopeError"
   ]
  },
  {
   "cell_type": "markdown",
   "metadata": {},
   "source": [
    "## Calculation of error for the intercept\n",
    "#### Function is the partial derivative of the cost function with respect to the intercept."
   ]
  },
  {
   "cell_type": "code",
   "execution_count": 5,
   "metadata": {},
   "outputs": [],
   "source": [
    "def calcInterceptError(actualValues,predictedValues):\n",
    "\n",
    "    numSamples = len(actualValues)\n",
    "    sumOfDifferences = 0\n",
    "    for i in range(0,numSamples):\n",
    "        difference = actualValues[i][1] - predictedValues[i]\n",
    "        sumOfDifferences = sumOfDifferences + difference\n",
    "\n",
    "    interceptError = -2 * sumOfDifferences / numSamples\n",
    "\n",
    "    return interceptError"
   ]
  },
  {
   "cell_type": "markdown",
   "metadata": {},
   "source": [
    "## Gradient descent algorithm\n",
    "#### Slope and intercept are initialized to zero. For the specified number epochs the algorithm calculates the error of the predicted values calculated by the linear regression and the actual values. The slope and intercept are updated each epoch in attempt to decrease the error of the best-fit line."
   ]
  },
  {
   "cell_type": "code",
   "execution_count": 6,
   "metadata": {},
   "outputs": [],
   "source": [
    "def gradientDescent(data,learningRate,epochLimit):\n",
    "\n",
    "    m = 0\n",
    "    b = 0\n",
    "\n",
    "    for i in range(epochLimit):\n",
    "        predictions = [linearPrediction(m, x[0], b) for x in data]\n",
    "        mPrime = calcSlopeError(data,predictions)\n",
    "        bPrime = calcInterceptError(data,predictions)\n",
    "\n",
    "        m = m - (learningRate * mPrime)\n",
    "        b = b - (learningRate * bPrime)\n",
    "\n",
    "    return m, b"
   ]
  },
  {
   "cell_type": "markdown",
   "metadata": {},
   "source": [
    "## Calculation of mean squared error"
   ]
  },
  {
   "cell_type": "code",
   "execution_count": 7,
   "metadata": {},
   "outputs": [],
   "source": [
    "def calcMeanSquareError(actualValues,predictedValues):\n",
    "\n",
    "    lengthOfData = len(actualValues)\n",
    "    sumOfSquaredDiffernces = 0\n",
    "    for i in range(lengthOfData):\n",
    "        difference = actualValues[i][1] - predictedValues[i]\n",
    "        sumOfSquaredDiffernces = sumOfSquaredDiffernces + (difference**2)\n",
    "\n",
    "    return sumOfSquaredDiffernces / lengthOfData"
   ]
  },
  {
   "cell_type": "markdown",
   "metadata": {},
   "source": [
    "## Exploration of learning rates\n",
    "#### Here a range of potential learning rates are explored. The one resulting in the best mean squared error is used in the final gradient descent calculation of the best-fit line."
   ]
  },
  {
   "cell_type": "code",
   "execution_count": 8,
   "metadata": {},
   "outputs": [],
   "source": [
    "def exploreLearningRate(data,epochLimit):\n",
    "\n",
    "    learningRates = [\n",
    "        0.00008,0.0001,0.00012,0.00014,0.00016,0.00018,0.00020,\n",
    "        0.00022,0.00024,0.00026,0.00028,0.00030,0.00032,0.00034,\n",
    "        0.00036,0.00038,0.00040,0.00042,0.00044,0.00046,0.00048,\n",
    "        ]\n",
    "\n",
    "    results = [gradientDescent(data,rate,epochLimit) for rate in learningRates]\n",
    "    indexOfBestResult = 0\n",
    "    bestError = calcMeanSquareError(data,[linearPrediction(results[0][0],datum[0],results[0][1]) for datum in data])\n",
    "\n",
    "    for result in results[1:]:\n",
    "        slope = result[0]\n",
    "        intercept = result[1]\n",
    "        resultAccuracy = calcMeanSquareError(data,[linearPrediction(slope,datum[0],intercept) for datum in data])\n",
    "\n",
    "        if resultAccuracy < bestError:\n",
    "            indexOfBestResult = results.index(result)\n",
    "            bestError = resultAccuracy\n",
    "        elif resultAccuracy > bestError:\n",
    "            break\n",
    "\n",
    "    return learningRates[indexOfBestResult]"
   ]
  },
  {
   "cell_type": "markdown",
   "metadata": {},
   "source": [
    "## Exploration of epochs\n",
    "#### Here we explore the returns of performing more epochs in the algorithm. We expect that accuracy increases as the algorithm invests more time in finding a solution.\n",
    "#### The mean square error of the linear regression created at epochs ranging from 10000 to 100000 is plotted versus the time it takes to complete that epoch.\n",
    "#### Data is normalized to make the figure more readable."
   ]
  },
  {
   "cell_type": "code",
   "execution_count": 9,
   "metadata": {},
   "outputs": [],
   "source": [
    "def exploreEpochLimit(data,learningRate):\n",
    "\n",
    "    epochLimits = [i for i in range(10000,100000,5000)]\n",
    "    results = []\n",
    "    resultTimes = []\n",
    "    for epochs in epochLimits:\n",
    "        startTime = time.time()\n",
    "        result = gradientDescent(data,learningRate,epochs)\n",
    "        stopTime = time.time()\n",
    "        results.append(result)\n",
    "        resultTimes.append(stopTime-startTime)\n",
    "        \n",
    "    epochAccuracy = []\n",
    "    for result in results:\n",
    "        slope = result[0]\n",
    "        intercept = result[1]\n",
    "        resultAccuracy = calcMeanSquareError(data,[linearPrediction(slope,datum[0],intercept) for datum in data])\n",
    "        epochAccuracy.append(resultAccuracy)\n",
    "\n",
    "    minTime = resultTimes[0]\n",
    "    maxTime = resultTimes[len(resultTimes)-1]\n",
    "    resultTimes = [(times - minTime) / (maxTime - minTime) for times in resultTimes]\n",
    "\n",
    "    minAccuracy = epochAccuracy[0]\n",
    "    maxAccuracy = epochAccuracy[len(epochAccuracy)-1]\n",
    "    epochAccuracy = [(epoch - minAccuracy) / (maxAccuracy - minAccuracy) for epoch in epochAccuracy]\n",
    "    \n",
    "    plt.rcParams['figure.figsize'] = (12.0,9.0)\n",
    "    plt.xlabel('Resultant Accuracy')\n",
    "    plt.ylabel('Computation Time')\n",
    "    plt.title('Effect of Increasing Epoch Limit')\n",
    "    plt.plot(epochAccuracy,resultTimes)\n",
    "    plt.show()"
   ]
  },
  {
   "cell_type": "markdown",
   "metadata": {},
   "source": [
    "## A function that prints the graph of blood pressure versus a person's age."
   ]
  },
  {
   "cell_type": "code",
   "execution_count": 10,
   "metadata": {},
   "outputs": [],
   "source": [
    "def plotDataWithRegression(data,slope,intercept):\n",
    "\n",
    "    xRange = [age for age in range(15,75)]\n",
    "    yRange = [linearPrediction(slope,age,intercept) for age in xRange]\n",
    "\n",
    "    plt.rcParams['figure.figsize'] = (12.0,9.0)\n",
    "    plt.scatter([x[0] for x in data],[y[1] for y in data])\n",
    "    plt.plot(xRange,yRange)\n",
    "    plt.xlabel('Age')\n",
    "    plt.ylabel('Blood Pressure')\n",
    "    plt.title('Predicting B.P. Based on Age')\n",
    "    plt.show()"
   ]
  },
  {
   "cell_type": "markdown",
   "metadata": {},
   "source": [
    "## Driver Function\n",
    "#### Sets the data for the model, calls the functions that find the learning rate, explores the computation time cost of increasing epochs, and plots the final regression line.\n",
    "#### An epoch limit is set to 100000 to keep things simple"
   ]
  },
  {
   "cell_type": "code",
   "execution_count": 11,
   "metadata": {},
   "outputs": [
    {
     "data": {
      "image/png": "[encoded data removed]",
      "text/plain": [
       "<Figure size 864x648 with 1 Axes>"
      ]
     },
     "metadata": {
      "needs_background": "light"
     },
     "output_type": "display_data"
    },
    {
     "data": {
      "image/png": "[encoded data removed]",
      "text/plain": [
       "<Figure size 864x648 with 1 Axes>"
      ]
     },
     "metadata": {
      "needs_background": "light"
     },
     "output_type": "display_data"
    },
    {
     "name": "stdout",
     "output_type": "stream",
     "text": [
      "Final slope: 0.4547978059135336, intercept: 112.12551301198316\n"
     ]
    }
   ],
   "source": [
    "def main():\n",
    "\n",
    "    trainingData = [\n",
    "        (20,120), (43,128), (63,141), (26,126), (53,134), (31,128), (58,136),\n",
    "        (46,132), (58,140), (70,144), (46,128), (53,136), (60,146), (20,124), (63,143),\n",
    "        (43,130), (26,124), (19,121), (31,126), (23,123)\n",
    "        ]\n",
    "\n",
    "    \n",
    "    numOfSamples = len(trainingData)\n",
    "    \n",
    "    # learningRate = 0.0001\n",
    "    epochLimit = 100000\n",
    "    myLearningRate = exploreLearningRate(trainingData,epochLimit)\n",
    "\n",
    "    exploreEpochLimit(trainingData,myLearningRate)\n",
    "    \n",
    "    m, b = gradientDescent(trainingData,myLearningRate,epochLimit)\n",
    "    plotDataWithRegression(trainingData,m,b)\n",
    "    print(f\"Final slope: {m}, intercept: {b}\")\n",
    "\n",
    "    \n",
    "\n",
    "\n",
    "if __name__ == '__main__':\n",
    "    main()"
   ]
  },
  {
   "cell_type": "markdown",
   "metadata": {},
   "source": []
  },
  {
   "cell_type": "code",
   "execution_count": null,
   "metadata": {},
   "outputs": [],
   "source": []
  }
 ],
 "metadata": {
  "file_extension": ".py",
  "kernelspec": {
   "display_name": "Python 3",
   "language": "python",
   "name": "python3"
  },
  "language_info": {
   "codemirror_mode": {
    "name": "ipython",
    "version": 3
   },
   "file_extension": ".py",
   "mimetype": "text/x-python",
   "name": "python",
   "nbconvert_exporter": "python",
   "pygments_lexer": "ipython3",
   "version": "3.7.1"
  },
  "mimetype": "text/x-python",
  "name": "python",
  "npconvert_exporter": "python",
  "pygments_lexer": "ipython3",
  "version": 3
 },
 "nbformat": 4,
 "nbformat_minor": 2
}
